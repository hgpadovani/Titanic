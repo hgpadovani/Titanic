{
 "cells": [
  {
   "cell_type": "code",
   "execution_count": 1,
   "metadata": {
    "collapsed": false
   },
   "outputs": [
    {
     "name": "stderr",
     "output_type": "stream",
     "text": [
      "/usr/local/lib/python3.5/dist-packages/pandas/core/indexing.py:141: SettingWithCopyWarning: \n",
      "A value is trying to be set on a copy of a slice from a DataFrame\n",
      "\n",
      "See the caveats in the documentation: http://pandas.pydata.org/pandas-docs/stable/indexing.html#indexing-view-versus-copy\n",
      "  self._setitem_with_indexer(indexer, value)\n"
     ]
    }
   ],
   "source": [
    "# Kaggle: Titanic competition\n",
    "\n",
    "# Importing the libraries\n",
    "import numpy as np\n",
    "import matplotlib.pyplot as plt\n",
    "import pandas as pd\n",
    "import seaborn as sns\n",
    "\n",
    "# Importing the dataset\n",
    "train = pd.read_csv('train.csv')\n",
    "test = pd.read_csv('test.csv')\n",
    "\n",
    "# Dropping unecessary features\n",
    "train = train.drop(['PassengerId','Ticket','Cabin','Name','Embarked'], axis=1)\n",
    "PassengerId = test['PassengerId']\n",
    "test = test.drop(['Name','Ticket','Cabin','Name','Embarked','PassengerId'], axis=1)\n",
    "\n",
    "# Filling missing values in the training set, with the most occurency\n",
    "test['Fare'].fillna(test['Fare'].median(), inplace = True)\n",
    "train['Age'].fillna(train['Age'].mean(), inplace = True)\n",
    "test['Age'].fillna(test['Age'].mean(), inplace = True)\n",
    "\n",
    "# Getting childs \n",
    "def get_person(passenger):\n",
    "    age, sex = passenger\n",
    "    return 'child' if age < 16 else sex\n",
    "\n",
    "train['Person'] = train[['Age','Sex']].apply(get_person, axis=1)\n",
    "test['Person'] = test[['Age','Sex']].apply(get_person, axis=1)\n",
    "\n",
    "train.drop(['Sex'],axis = 1, inplace = True)\n",
    "test.drop(['Sex'],axis = 1, inplace = True)\n",
    "\n",
    "# create dummy variables for Person column, & drop Male as it has the lowest average of survived passengers\n",
    "person_dummies_titanic  = pd.get_dummies(train['Person'])\n",
    "person_dummies_titanic.columns = ['Child','Female','Male']\n",
    "person_dummies_titanic.drop(['Male'], axis=1, inplace=True)\n",
    "\n",
    "person_dummies_test  = pd.get_dummies(test['Person'])\n",
    "person_dummies_test.columns = ['Child','Female','Male']\n",
    "person_dummies_test.drop(['Male'], axis=1, inplace=True)\n",
    "\n",
    "train = train.join(person_dummies_titanic)\n",
    "test = test.join(person_dummies_test)\n",
    "\n",
    "train.drop(['Person'], axis = 1, inplace = True)\n",
    "test.drop(['Person'], axis = 1, inplace = True)\n",
    "\n",
    "# create dummy variables for Person column, & drop Male as it has the lowest average of survived passengers\n",
    "sns.factorplot('Pclass','Survived',order=[1,2,3], data=train,size=5)\n",
    "pclass_dummies = pd.get_dummies(train['Pclass'])\n",
    "pclass_dummies.columns = ['class1','class2','class3']\n",
    "pclass_dummies.drop(['class3'], axis=1, inplace = True)\n",
    "\n",
    "pclass_dummies_train = pd.get_dummies(train['Pclass'])\n",
    "pclass_dummies_train.columns = ['class1','class2','class3']\n",
    "pclass_dummies_train.drop(['class3'], axis=1, inplace = True)\n",
    "\n",
    "pclass_dummies_test = pd.get_dummies(test['Pclass'])\n",
    "pclass_dummies_test.columns = ['class1','class2','class3']\n",
    "pclass_dummies_test.drop(['class3'], axis=1, inplace = True)\n",
    "\n",
    "train.drop(['Pclass'], axis=1, inplace = True)\n",
    "test.drop(['Pclass'], axis=1, inplace = True)\n",
    "\n",
    "# Handling family members\n",
    "train['Family'] = train['SibSp'] + train['Parch']\n",
    "train['Family'].loc[train['Family'] > 0] = 1\n",
    "train['Family'].loc[train['Family'] == 0] = 0\n",
    "\n",
    "test['Family'] = test['SibSp'] + test['Parch']\n",
    "test['Family'].loc[test['Family'] > 0] = 1\n",
    "test['Family'].loc[test['Family'] == 0] = 0\n",
    "\n",
    "train.drop(['SibSp','Parch'],axis=1, inplace=True)\n",
    "test.drop(['SibSp','Parch'],axis=1, inplace=True)\n",
    "\n",
    "# Getting the training data and target variable\n",
    "y_train = train['Survived']\n",
    "X_train = train.drop(['Survived'], axis=1)\n",
    "X_test = test\n",
    "\n",
    "# Feature Scaling\n",
    "from sklearn.preprocessing import StandardScaler\n",
    "sc = StandardScaler()\n",
    "X_train = sc.fit_transform(X_train)\n",
    "X_test = sc.transform(X_test)"
   ]
  },
  {
   "cell_type": "code",
   "execution_count": 2,
   "metadata": {
    "collapsed": false
   },
   "outputs": [
    {
     "name": "stderr",
     "output_type": "stream",
     "text": [
      "You are already timing task: index_run4\n",
      "You are already timing task: index_run4\n",
      "You are already timing task: index_run4\n",
      "You are already timing task: index_run5\n",
      "You are already timing task: index_run5\n",
      "You are already timing task: index_run6\n"
     ]
    },
    {
     "name": "stdout",
     "output_type": "stream",
     "text": [
      "[WARNING] [2017-10-04 16:25:37,390:smac.intensification.intensification.Intensifier] Challenger was the same as the current incumbent; Skipping challenger\n",
      "[WARNING] [2017-10-04 16:25:37,390:smac.intensification.intensification.Intensifier] Challenger was the same as the current incumbent; Skipping challenger\n"
     ]
    },
    {
     "name": "stderr",
     "output_type": "stream",
     "text": [
      "You are already timing task: index_run6\n",
      "You are already timing task: index_run6\n",
      "You are already timing task: index_run6\n",
      "You are already timing task: index_run6\n",
      "You are already timing task: index_run6\n",
      "You are already timing task: index_run6\n",
      "You are already timing task: index_run8\n",
      "You are already timing task: index_run8\n",
      "You are already timing task: index_run8\n",
      "You are already timing task: index_run8\n",
      "You are already timing task: index_run8\n"
     ]
    },
    {
     "name": "stdout",
     "output_type": "stream",
     "text": [
      "[WARNING] [2017-10-04 16:32:56,192:smac.intensification.intensification.Intensifier] Challenger was the same as the current incumbent; Skipping challenger\n",
      "[WARNING] [2017-10-04 16:32:56,192:smac.intensification.intensification.Intensifier] Challenger was the same as the current incumbent; Skipping challenger\n"
     ]
    },
    {
     "name": "stderr",
     "output_type": "stream",
     "text": [
      "You are already timing task: index_run9\n",
      "You are already timing task: index_run10\n"
     ]
    },
    {
     "name": "stdout",
     "output_type": "stream",
     "text": [
      "[WARNING] [2017-10-04 16:33:06,679:smac.intensification.intensification.Intensifier] Challenger was the same as the current incumbent; Skipping challenger\n",
      "[WARNING] [2017-10-04 16:33:06,679:smac.intensification.intensification.Intensifier] Challenger was the same as the current incumbent; Skipping challenger\n"
     ]
    },
    {
     "name": "stderr",
     "output_type": "stream",
     "text": [
      "You are already timing task: index_run10\n",
      "You are already timing task: index_run12\n",
      "You are already timing task: index_run12\n"
     ]
    },
    {
     "name": "stdout",
     "output_type": "stream",
     "text": [
      "[WARNING] [2017-10-04 16:33:23,031:smac.intensification.intensification.Intensifier] Challenger was the same as the current incumbent; Skipping challenger\n",
      "[WARNING] [2017-10-04 16:33:23,031:smac.intensification.intensification.Intensifier] Challenger was the same as the current incumbent; Skipping challenger\n"
     ]
    },
    {
     "name": "stderr",
     "output_type": "stream",
     "text": [
      "You are already timing task: index_run13\n",
      "You are already timing task: index_run16\n",
      "You are already timing task: index_run16\n",
      "You are already timing task: index_run17\n",
      "You are already timing task: index_run18\n"
     ]
    },
    {
     "name": "stdout",
     "output_type": "stream",
     "text": [
      "[WARNING] [2017-10-04 16:34:37,848:smac.intensification.intensification.Intensifier] Challenger was the same as the current incumbent; Skipping challenger\n",
      "[WARNING] [2017-10-04 16:34:37,848:smac.intensification.intensification.Intensifier] Challenger was the same as the current incumbent; Skipping challenger\n"
     ]
    },
    {
     "name": "stderr",
     "output_type": "stream",
     "text": [
      "You are already timing task: index_run18\n",
      "You are already timing task: index_run21\n",
      "You are already timing task: index_run22\n"
     ]
    },
    {
     "name": "stdout",
     "output_type": "stream",
     "text": [
      "[WARNING] [2017-10-04 16:34:57,995:smac.intensification.intensification.Intensifier] Challenger was the same as the current incumbent; Skipping challenger\n",
      "[WARNING] [2017-10-04 16:34:57,995:smac.intensification.intensification.Intensifier] Challenger was the same as the current incumbent; Skipping challenger\n"
     ]
    },
    {
     "name": "stderr",
     "output_type": "stream",
     "text": [
      "You are already timing task: index_run22\n",
      "You are already timing task: index_run23\n",
      "You are already timing task: index_run23\n",
      "You are already timing task: index_run24\n",
      "You are already timing task: index_run24\n"
     ]
    },
    {
     "name": "stdout",
     "output_type": "stream",
     "text": [
      "[WARNING] [2017-10-04 16:35:21,296:smac.intensification.intensification.Intensifier] Challenger was the same as the current incumbent; Skipping challenger\n",
      "[WARNING] [2017-10-04 16:35:21,296:smac.intensification.intensification.Intensifier] Challenger was the same as the current incumbent; Skipping challenger\n"
     ]
    },
    {
     "name": "stderr",
     "output_type": "stream",
     "text": [
      "You are already timing task: index_run25\n",
      "You are already timing task: index_run25\n",
      "You are already timing task: index_run25\n",
      "You are already timing task: index_run25\n",
      "You are already timing task: index_run25\n"
     ]
    },
    {
     "name": "stdout",
     "output_type": "stream",
     "text": [
      "[WARNING] [2017-10-04 16:35:40,517:smac.intensification.intensification.Intensifier] Challenger was the same as the current incumbent; Skipping challenger\n",
      "[WARNING] [2017-10-04 16:35:40,517:smac.intensification.intensification.Intensifier] Challenger was the same as the current incumbent; Skipping challenger\n"
     ]
    },
    {
     "name": "stderr",
     "output_type": "stream",
     "text": [
      "You are already timing task: index_run27\n",
      "You are already timing task: index_run27\n",
      "You are already timing task: index_run27\n",
      "You are already timing task: index_run27\n",
      "You are already timing task: index_run28\n",
      "You are already timing task: index_run28\n",
      "You are already timing task: index_run28\n",
      "You are already timing task: index_run28\n",
      "You are already timing task: index_run28\n",
      "You are already timing task: index_run29\n",
      "You are already timing task: index_run29\n",
      "You are already timing task: index_run29\n",
      "You are already timing task: index_run29\n",
      "You are already timing task: index_run29\n",
      "You are already timing task: index_run29\n",
      "You are already timing task: index_run29\n",
      "You are already timing task: index_run30\n",
      "You are already timing task: index_run30\n",
      "You are already timing task: index_run30\n",
      "You are already timing task: index_run30\n",
      "You are already timing task: index_run30\n",
      "You are already timing task: index_run31\n",
      "You are already timing task: index_run31\n",
      "You are already timing task: index_run32\n",
      "You are already timing task: index_run33\n",
      "You are already timing task: index_run33\n",
      "You are already timing task: index_run33\n",
      "You are already timing task: index_run33\n",
      "You are already timing task: index_run33\n",
      "You are already timing task: index_run33\n",
      "You are already timing task: index_run33\n",
      "You are already timing task: index_run33\n",
      "You are already timing task: index_run33\n",
      "You are already timing task: index_run33\n",
      "You are already timing task: index_run33\n",
      "You are already timing task: index_run33\n",
      "You are already timing task: index_run33\n",
      "You are already timing task: index_run33\n",
      "You are already timing task: index_run33\n",
      "You are already timing task: index_run33\n",
      "You are already timing task: index_run33\n",
      "You are already timing task: index_run33\n",
      "You are already timing task: index_run33\n",
      "You are already timing task: index_run33\n",
      "You are already timing task: index_run33\n",
      "You are already timing task: index_run33\n",
      "You are already timing task: index_run33\n",
      "You are already timing task: index_run33\n",
      "You are already timing task: index_run33\n",
      "You are already timing task: index_run33\n",
      "You are already timing task: index_run33\n",
      "You are already timing task: index_run33\n",
      "You are already timing task: index_run33\n",
      "You are already timing task: index_run33\n",
      "You are already timing task: index_run33\n",
      "You are already timing task: index_run33\n",
      "You are already timing task: index_run34\n",
      "You are already timing task: index_run34\n",
      "You are already timing task: index_run34\n",
      "You are already timing task: index_run34\n",
      "You are already timing task: index_run34\n",
      "You are already timing task: index_run34\n",
      "You are already timing task: index_run34\n",
      "You are already timing task: index_run34\n",
      "You are already timing task: index_run34\n",
      "You are already timing task: index_run34\n",
      "You are already timing task: index_run34\n",
      "You are already timing task: index_run34\n",
      "You are already timing task: index_run34\n",
      "You are already timing task: index_run34\n",
      "You are already timing task: index_run34\n",
      "You are already timing task: index_run35\n",
      "You are already timing task: index_run35\n",
      "You are already timing task: index_run35\n"
     ]
    },
    {
     "name": "stdout",
     "output_type": "stream",
     "text": [
      "[WARNING] [2017-10-04 16:40:45,416:smac.intensification.intensification.Intensifier] Challenger was the same as the current incumbent; Skipping challenger\n",
      "[WARNING] [2017-10-04 16:40:45,416:smac.intensification.intensification.Intensifier] Challenger was the same as the current incumbent; Skipping challenger\n"
     ]
    },
    {
     "name": "stderr",
     "output_type": "stream",
     "text": [
      "You are already timing task: index_run35\n",
      "You are already timing task: index_run35\n",
      "You are already timing task: index_run35\n",
      "You are already timing task: index_run35\n",
      "You are already timing task: index_run35\n",
      "You are already timing task: index_run36\n",
      "You are already timing task: index_run36\n",
      "You are already timing task: index_run36\n",
      "You are already timing task: index_run36\n",
      "You are already timing task: index_run36\n",
      "You are already timing task: index_run36\n",
      "You are already timing task: index_run36\n",
      "You are already timing task: index_run36\n",
      "You are already timing task: index_run36\n",
      "You are already timing task: index_run36\n",
      "You are already timing task: index_run36\n",
      "You are already timing task: index_run36\n",
      "You are already timing task: index_run36\n",
      "You are already timing task: index_run36\n",
      "You are already timing task: index_run36\n",
      "You are already timing task: index_run36\n",
      "You are already timing task: index_run36\n",
      "You are already timing task: index_run36\n",
      "You are already timing task: index_run36\n",
      "You are already timing task: index_run36\n",
      "You are already timing task: index_run36\n",
      "You are already timing task: index_run36\n",
      "You are already timing task: index_run36\n",
      "You are already timing task: index_run36\n"
     ]
    },
    {
     "name": "stdout",
     "output_type": "stream",
     "text": [
      "[WARNING] [2017-10-04 16:42:31,802:smac.intensification.intensification.Intensifier] Challenger was the same as the current incumbent; Skipping challenger\n",
      "[WARNING] [2017-10-04 16:42:31,802:smac.intensification.intensification.Intensifier] Challenger was the same as the current incumbent; Skipping challenger\n"
     ]
    },
    {
     "name": "stderr",
     "output_type": "stream",
     "text": [
      "You are already timing task: index_run36\n",
      "You are already timing task: index_run36\n",
      "You are already timing task: index_run36\n",
      "You are already timing task: index_run36\n",
      "You are already timing task: index_run36\n",
      "You are already timing task: index_run36\n",
      "You are already timing task: index_run36\n",
      "You are already timing task: index_run36\n",
      "You are already timing task: index_run36\n",
      "You are already timing task: index_run36\n",
      "You are already timing task: index_run36\n",
      "You are already timing task: index_run36\n",
      "You are already timing task: index_run36\n",
      "You are already timing task: index_run36\n",
      "You are already timing task: index_run36\n",
      "You are already timing task: index_run36\n",
      "You are already timing task: index_run36\n",
      "You are already timing task: index_run36\n",
      "You are already timing task: index_run36\n",
      "You are already timing task: index_run36\n",
      "You are already timing task: index_run36\n",
      "You are already timing task: index_run36\n",
      "You are already timing task: index_run36\n",
      "You are already timing task: index_run36\n",
      "You are already timing task: index_run36\n",
      "You are already timing task: index_run36\n",
      "You are already timing task: index_run36\n",
      "You are already timing task: index_run36\n",
      "You are already timing task: index_run36\n",
      "You are already timing task: index_run36\n",
      "You are already timing task: index_run36\n",
      "You are already timing task: index_run36\n",
      "You are already timing task: index_run36\n",
      "You are already timing task: index_run36\n",
      "You are already timing task: index_run36\n",
      "You are already timing task: index_run36\n",
      "You are already timing task: index_run36\n",
      "You are already timing task: index_run36\n",
      "You are already timing task: index_run36\n",
      "You are already timing task: index_run36\n",
      "You are already timing task: index_run37\n",
      "You are already timing task: index_run37\n",
      "You are already timing task: index_run37\n",
      "You are already timing task: index_run37\n",
      "You are already timing task: index_run37\n",
      "You are already timing task: index_run37\n",
      "You are already timing task: index_run37\n",
      "You are already timing task: index_run37\n",
      "You are already timing task: index_run37\n",
      "You are already timing task: index_run37\n",
      "You are already timing task: index_run37\n",
      "You are already timing task: index_run37\n",
      "You are already timing task: index_run37\n",
      "You are already timing task: index_run37\n",
      "You are already timing task: index_run37\n",
      "You are already timing task: index_run37\n",
      "You are already timing task: index_run37\n",
      "You are already timing task: index_run37\n",
      "You are already timing task: index_run37\n",
      "You are already timing task: index_run37\n",
      "You are already timing task: index_run37\n",
      "You are already timing task: index_run37\n",
      "You are already timing task: index_run37\n",
      "You are already timing task: index_run37\n",
      "You are already timing task: index_run37\n",
      "You are already timing task: index_run37\n",
      "You are already timing task: index_run37\n",
      "You are already timing task: index_run37\n",
      "You are already timing task: index_run37\n",
      "You are already timing task: index_run38\n",
      "You are already timing task: index_run38\n",
      "You are already timing task: index_run38\n",
      "You are already timing task: index_run38\n",
      "You are already timing task: index_run38\n",
      "You are already timing task: index_run38\n",
      "You are already timing task: index_run38\n",
      "You are already timing task: index_run38\n"
     ]
    },
    {
     "name": "stdout",
     "output_type": "stream",
     "text": [
      "[WARNING] [2017-10-04 16:53:47,336:smac.intensification.intensification.Intensifier] Challenger was the same as the current incumbent; Skipping challenger\n",
      "[WARNING] [2017-10-04 16:53:47,336:smac.intensification.intensification.Intensifier] Challenger was the same as the current incumbent; Skipping challenger\n"
     ]
    },
    {
     "name": "stderr",
     "output_type": "stream",
     "text": [
      "You are already timing task: index_run38\n",
      "You are already timing task: index_run38\n",
      "You are already timing task: index_run38\n",
      "You are already timing task: index_run38\n",
      "You are already timing task: index_run38\n",
      "You are already timing task: index_run38\n",
      "You are already timing task: index_run38\n",
      "You are already timing task: index_run38\n",
      "You are already timing task: index_run38\n",
      "You are already timing task: index_run38\n",
      "You are already timing task: index_run38\n",
      "You are already timing task: index_run39\n",
      "You are already timing task: index_run39\n",
      "You are already timing task: index_run39\n",
      "You are already timing task: index_run39\n",
      "You are already timing task: index_run39\n",
      "You are already timing task: index_run39\n",
      "You are already timing task: index_run39\n",
      "You are already timing task: index_run39\n",
      "You are already timing task: index_run39\n",
      "You are already timing task: index_run39\n",
      "You are already timing task: index_run39\n",
      "You are already timing task: index_run39\n",
      "You are already timing task: index_run39\n",
      "You are already timing task: index_run39\n",
      "You are already timing task: index_run39\n",
      "You are already timing task: index_run39\n",
      "You are already timing task: index_run39\n",
      "You are already timing task: index_run39\n",
      "You are already timing task: index_run39\n",
      "You are already timing task: index_run39\n",
      "You are already timing task: index_run39\n",
      "You are already timing task: index_run39\n",
      "You are already timing task: index_run39\n",
      "You are already timing task: index_run39\n",
      "You are already timing task: index_run39\n",
      "You are already timing task: index_run39\n",
      "You are already timing task: index_run39\n",
      "You are already timing task: index_run39\n",
      "You are already timing task: index_run39\n",
      "You are already timing task: index_run39\n",
      "You are already timing task: index_run39\n",
      "You are already timing task: index_run39\n",
      "You are already timing task: index_run39\n",
      "You are already timing task: index_run39\n",
      "You are already timing task: index_run39\n",
      "You are already timing task: index_run39\n",
      "You are already timing task: index_run39\n",
      "You are already timing task: index_run39\n",
      "You are already timing task: index_run39\n",
      "You are already timing task: index_run39\n",
      "You are already timing task: index_run39\n",
      "You are already timing task: index_run39\n",
      "You are already timing task: index_run39\n",
      "You are already timing task: index_run39\n",
      "You are already timing task: index_run39\n",
      "You are already timing task: index_run39\n",
      "You are already timing task: index_run39\n",
      "You are already timing task: index_run39\n",
      "You are already timing task: index_run39\n"
     ]
    },
    {
     "name": "stdout",
     "output_type": "stream",
     "text": [
      "[WARNING] [2017-10-04 16:57:44,767:smac.intensification.intensification.Intensifier] Challenger was the same as the current incumbent; Skipping challenger\n",
      "[WARNING] [2017-10-04 16:57:44,767:smac.intensification.intensification.Intensifier] Challenger was the same as the current incumbent; Skipping challenger\n"
     ]
    },
    {
     "name": "stderr",
     "output_type": "stream",
     "text": [
      "You are already timing task: index_run39\n",
      "You are already timing task: index_run39\n",
      "You are already timing task: index_run39\n",
      "You are already timing task: index_run39\n",
      "You are already timing task: index_run39\n",
      "You are already timing task: index_run39\n",
      "You are already timing task: index_run39\n",
      "You are already timing task: index_run39\n",
      "You are already timing task: index_run39\n",
      "You are already timing task: index_run39\n",
      "You are already timing task: index_run39\n",
      "You are already timing task: index_run39\n",
      "You are already timing task: index_run39\n",
      "You are already timing task: index_run39\n",
      "You are already timing task: index_run39\n"
     ]
    },
    {
     "name": "stdout",
     "output_type": "stream",
     "text": [
      "[WARNING] [2017-10-04 16:58:50,401:smac.intensification.intensification.Intensifier] Challenger was the same as the current incumbent; Skipping challenger\n",
      "[WARNING] [2017-10-04 16:58:50,401:smac.intensification.intensification.Intensifier] Challenger was the same as the current incumbent; Skipping challenger\n"
     ]
    },
    {
     "name": "stderr",
     "output_type": "stream",
     "text": [
      "You are already timing task: index_run39\n",
      "You are already timing task: index_run39\n",
      "You are already timing task: index_run39\n",
      "You are already timing task: index_run39\n",
      "You are already timing task: index_run39\n",
      "You are already timing task: index_run39\n",
      "You are already timing task: index_run39\n",
      "You are already timing task: index_run39\n",
      "You are already timing task: index_run39\n",
      "You are already timing task: index_run39\n",
      "You are already timing task: index_run39\n",
      "You are already timing task: index_run39\n",
      "You are already timing task: index_run39\n",
      "You are already timing task: index_run39\n",
      "You are already timing task: index_run39\n",
      "You are already timing task: index_run39\n",
      "You are already timing task: index_run39\n",
      "You are already timing task: index_run39\n",
      "You are already timing task: index_run39\n",
      "You are already timing task: index_run39\n",
      "You are already timing task: index_run39\n",
      "You are already timing task: index_run39\n",
      "You are already timing task: index_run39\n",
      "You are already timing task: index_run39\n",
      "You are already timing task: index_run39\n",
      "You are already timing task: index_run39\n",
      "You are already timing task: index_run39\n",
      "You are already timing task: index_run39\n",
      "You are already timing task: index_run39\n",
      "You are already timing task: index_run39\n",
      "You are already timing task: index_run39\n",
      "You are already timing task: index_run39\n",
      "You are already timing task: index_run39\n",
      "You are already timing task: index_run39\n",
      "You are already timing task: index_run39\n",
      "You are already timing task: index_run39\n",
      "You are already timing task: index_run39\n",
      "You are already timing task: index_run39\n",
      "You are already timing task: index_run39\n",
      "You are already timing task: index_run39\n",
      "You are already timing task: index_run39\n",
      "You are already timing task: index_run39\n",
      "You are already timing task: index_run39\n",
      "You are already timing task: index_run39\n",
      "You are already timing task: index_run39\n",
      "You are already timing task: index_run39\n",
      "You are already timing task: index_run39\n",
      "You are already timing task: index_run39\n",
      "You are already timing task: index_run39\n",
      "You are already timing task: index_run39\n",
      "You are already timing task: index_run39\n",
      "You are already timing task: index_run39\n",
      "You are already timing task: index_run39\n",
      "You are already timing task: index_run39\n",
      "You are already timing task: index_run39\n",
      "You are already timing task: index_run39\n",
      "You are already timing task: index_run39\n",
      "You are already timing task: index_run39\n",
      "You are already timing task: index_run39\n",
      "You are already timing task: index_run39\n",
      "You are already timing task: index_run39\n",
      "You are already timing task: index_run39\n",
      "You are already timing task: index_run39\n",
      "You are already timing task: index_run39\n",
      "You are already timing task: index_run39\n",
      "You are already timing task: index_run39\n",
      "You are already timing task: index_run39\n",
      "You are already timing task: index_run39\n",
      "You are already timing task: index_run39\n",
      "You are already timing task: index_run39\n",
      "You are already timing task: index_run39\n",
      "You are already timing task: index_run39\n"
     ]
    },
    {
     "name": "stdout",
     "output_type": "stream",
     "text": [
      "[WARNING] [2017-10-04 17:16:05,625:smac.intensification.intensification.Intensifier] Challenger was the same as the current incumbent; Skipping challenger\n",
      "[WARNING] [2017-10-04 17:16:05,625:smac.intensification.intensification.Intensifier] Challenger was the same as the current incumbent; Skipping challenger\n"
     ]
    },
    {
     "name": "stderr",
     "output_type": "stream",
     "text": [
      "You are already timing task: index_run39\n",
      "You are already timing task: index_run39\n",
      "You are already timing task: index_run39\n",
      "You are already timing task: index_run39\n",
      "You are already timing task: index_run39\n",
      "You are already timing task: index_run39\n",
      "You are already timing task: index_run39\n",
      "You are already timing task: index_run39\n",
      "You are already timing task: index_run39\n",
      "You are already timing task: index_run39\n",
      "You are already timing task: index_run39\n",
      "You are already timing task: index_run39\n",
      "You are already timing task: index_run39\n",
      "You are already timing task: index_run39\n",
      "You are already timing task: index_run39\n",
      "You are already timing task: index_run39\n",
      "You are already timing task: index_run39\n",
      "You are already timing task: index_run39\n"
     ]
    },
    {
     "name": "stdout",
     "output_type": "stream",
     "text": [
      "[WARNING] [2017-10-04 17:17:22,114:smac.intensification.intensification.Intensifier] Challenger was the same as the current incumbent; Skipping challenger\n",
      "[WARNING] [2017-10-04 17:17:22,114:smac.intensification.intensification.Intensifier] Challenger was the same as the current incumbent; Skipping challenger\n"
     ]
    },
    {
     "name": "stderr",
     "output_type": "stream",
     "text": [
      "You are already timing task: index_run39\n",
      "You are already timing task: index_run39\n",
      "You are already timing task: index_run39\n",
      "You are already timing task: index_run39\n",
      "You are already timing task: index_run39\n",
      "You are already timing task: index_run39\n",
      "You are already timing task: index_run39\n",
      "You are already timing task: index_run39\n",
      "You are already timing task: index_run39\n",
      "You are already timing task: index_run39\n",
      "You are already timing task: index_run39\n"
     ]
    },
    {
     "name": "stdout",
     "output_type": "stream",
     "text": [
      "[WARNING] [2017-10-04 17:17:58,980:smac.intensification.intensification.Intensifier] Challenger was the same as the current incumbent; Skipping challenger\n",
      "[WARNING] [2017-10-04 17:17:58,980:smac.intensification.intensification.Intensifier] Challenger was the same as the current incumbent; Skipping challenger\n"
     ]
    },
    {
     "name": "stderr",
     "output_type": "stream",
     "text": [
      "You are already timing task: index_run39\n",
      "You are already timing task: index_run39\n"
     ]
    },
    {
     "name": "stdout",
     "output_type": "stream",
     "text": [
      "[WARNING] [2017-10-04 17:18:09,229:smac.intensification.intensification.Intensifier] Challenger was the same as the current incumbent; Skipping challenger\n",
      "[WARNING] [2017-10-04 17:18:09,229:smac.intensification.intensification.Intensifier] Challenger was the same as the current incumbent; Skipping challenger\n"
     ]
    },
    {
     "name": "stderr",
     "output_type": "stream",
     "text": [
      "You are already timing task: index_run39\n",
      "You are already timing task: index_run39\n",
      "You are already timing task: index_run39\n",
      "You are already timing task: index_run39\n",
      "You are already timing task: index_run39\n",
      "You are already timing task: index_run39\n",
      "You are already timing task: index_run39\n",
      "You are already timing task: index_run39\n"
     ]
    },
    {
     "name": "stdout",
     "output_type": "stream",
     "text": [
      "[WARNING] [2017-10-04 17:18:37,338:smac.intensification.intensification.Intensifier] Challenger was the same as the current incumbent; Skipping challenger\n",
      "[WARNING] [2017-10-04 17:18:37,338:smac.intensification.intensification.Intensifier] Challenger was the same as the current incumbent; Skipping challenger\n"
     ]
    },
    {
     "name": "stderr",
     "output_type": "stream",
     "text": [
      "You are already timing task: index_run39\n",
      "You are already timing task: index_run39\n",
      "You are already timing task: index_run39\n",
      "You are already timing task: index_run39\n",
      "You are already timing task: index_run39\n"
     ]
    },
    {
     "name": "stdout",
     "output_type": "stream",
     "text": [
      "[WARNING] [2017-10-04 17:18:55,899:smac.intensification.intensification.Intensifier] Challenger was the same as the current incumbent; Skipping challenger\n",
      "[WARNING] [2017-10-04 17:18:55,899:smac.intensification.intensification.Intensifier] Challenger was the same as the current incumbent; Skipping challenger\n"
     ]
    },
    {
     "name": "stderr",
     "output_type": "stream",
     "text": [
      "You are already timing task: index_run39\n",
      "You are already timing task: index_run39\n",
      "You are already timing task: index_run39\n",
      "You are already timing task: index_run39\n",
      "You are already timing task: index_run39\n",
      "You are already timing task: index_run39\n",
      "You are already timing task: index_run39\n",
      "You are already timing task: index_run39\n",
      "You are already timing task: index_run39\n",
      "You are already timing task: index_run39\n",
      "You are already timing task: index_run39\n",
      "You are already timing task: index_run39\n",
      "You are already timing task: index_run39\n",
      "You are already timing task: index_run39\n",
      "You are already timing task: index_run39\n",
      "You are already timing task: index_run39\n",
      "You are already timing task: index_run39\n",
      "You are already timing task: index_run39\n",
      "You are already timing task: index_run39\n",
      "You are already timing task: index_run39\n",
      "You are already timing task: index_run39\n",
      "You are already timing task: index_run39\n",
      "You are already timing task: index_run39\n",
      "You are already timing task: index_run39\n",
      "You are already timing task: index_run39\n",
      "You are already timing task: index_run39\n",
      "You are already timing task: index_run39\n",
      "You are already timing task: index_run39\n",
      "You are already timing task: index_run39\n",
      "You are already timing task: index_run40\n",
      "You are already timing task: index_run40\n",
      "You are already timing task: index_run40\n",
      "You are already timing task: index_run40\n",
      "You are already timing task: index_run40\n",
      "You are already timing task: index_run40\n",
      "You are already timing task: index_run40\n",
      "You are already timing task: index_run40\n",
      "You are already timing task: index_run40\n",
      "You are already timing task: index_run40\n",
      "You are already timing task: index_run40\n",
      "You are already timing task: index_run40\n",
      "You are already timing task: index_run40\n",
      "You are already timing task: index_run40\n",
      "You are already timing task: index_run40\n",
      "You are already timing task: index_run40\n",
      "You are already timing task: index_run40\n",
      "You are already timing task: index_run40\n",
      "You are already timing task: index_run40\n",
      "You are already timing task: index_run40\n",
      "You are already timing task: index_run40\n",
      "You are already timing task: index_run40\n",
      "You are already timing task: index_run40\n",
      "You are already timing task: index_run40\n",
      "You are already timing task: index_run40\n",
      "You are already timing task: index_run40\n",
      "You are already timing task: index_run40\n",
      "You are already timing task: index_run40\n",
      "You are already timing task: index_run40\n",
      "You are already timing task: index_run40\n",
      "You are already timing task: index_run40\n",
      "You are already timing task: index_run40\n"
     ]
    },
    {
     "name": "stdout",
     "output_type": "stream",
     "text": [
      "[WARNING] [2017-10-04 17:22:42,225:smac.intensification.intensification.Intensifier] Challenger was the same as the current incumbent; Skipping challenger\n",
      "[WARNING] [2017-10-04 17:22:42,225:smac.intensification.intensification.Intensifier] Challenger was the same as the current incumbent; Skipping challenger\n"
     ]
    },
    {
     "name": "stderr",
     "output_type": "stream",
     "text": [
      "You are already timing task: index_run40\n",
      "You are already timing task: index_run40\n",
      "You are already timing task: index_run40\n",
      "You are already timing task: index_run40\n",
      "You are already timing task: index_run40\n",
      "You are already timing task: index_run40\n",
      "You are already timing task: index_run40\n",
      "You are already timing task: index_run40\n",
      "You are already timing task: index_run40\n",
      "You are already timing task: index_run40\n",
      "You are already timing task: index_run40\n",
      "You are already timing task: index_run40\n",
      "You are already timing task: index_run40\n",
      "You are already timing task: index_run40\n",
      "You are already timing task: index_run40\n",
      "You are already timing task: index_run40\n",
      "You are already timing task: index_run40\n",
      "You are already timing task: index_run40\n",
      "You are already timing task: index_run40\n",
      "You are already timing task: index_run40\n",
      "You are already timing task: index_run40\n",
      "You are already timing task: index_run40\n",
      "You are already timing task: index_run40\n",
      "You are already timing task: index_run40\n"
     ]
    }
   ],
   "source": [
    "import autosklearn.classification\n",
    "cls = autosklearn.classification.AutoSklearnClassifier()\n",
    "cls.fit(X_train, y_train)\n",
    "predictions = cls.predict(X_test)"
   ]
  },
  {
   "cell_type": "code",
   "execution_count": 3,
   "metadata": {
    "collapsed": false
   },
   "outputs": [
    {
     "name": "stdout",
     "output_type": "stream",
     "text": [
      "Accuracy score 0.894500561167\n"
     ]
    }
   ],
   "source": [
    "import sklearn.metrics\n",
    "predictions = cls.predict(X_train)\n",
    "print(\"Accuracy score\", sklearn.metrics.accuracy_score(y_train, predictions))"
   ]
  },
  {
   "cell_type": "code",
   "execution_count": 4,
   "metadata": {
    "collapsed": true
   },
   "outputs": [],
   "source": [
    "y_pred = cls.predict(X_test)\n",
    "results_automl = pd.DataFrame({\"PassengerId\": PassengerId, \"Survived\": y_pred}).to_csv(\"../results/results_automl.csv\", index=None)\n",
    "\n"
   ]
  },
  {
   "cell_type": "code",
   "execution_count": null,
   "metadata": {
    "collapsed": true
   },
   "outputs": [],
   "source": []
  }
 ],
 "metadata": {
  "kernelspec": {
   "display_name": "Python 3",
   "language": "python",
   "name": "python3"
  },
  "language_info": {
   "codemirror_mode": {
    "name": "ipython",
    "version": 3
   },
   "file_extension": ".py",
   "mimetype": "text/x-python",
   "name": "python",
   "nbconvert_exporter": "python",
   "pygments_lexer": "ipython3",
   "version": "3.5.2"
  }
 },
 "nbformat": 4,
 "nbformat_minor": 2
}
